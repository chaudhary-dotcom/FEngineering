{
 "cells": [
  {
   "cell_type": "code",
   "execution_count": 2,
   "id": "13841fa5",
   "metadata": {},
   "outputs": [],
   "source": [
    "import numpy as np \n",
    "import matplotlib.pyplot as plt\n",
    "import seaborn as sns\n",
    "import pandas as pd"
   ]
  },
  {
   "cell_type": "code",
   "execution_count": 3,
   "id": "fd9ef7f2",
   "metadata": {},
   "outputs": [
    {
     "data": {
      "text/html": [
       "<div>\n",
       "<style scoped>\n",
       "    .dataframe tbody tr th:only-of-type {\n",
       "        vertical-align: middle;\n",
       "    }\n",
       "\n",
       "    .dataframe tbody tr th {\n",
       "        vertical-align: top;\n",
       "    }\n",
       "\n",
       "    .dataframe thead th {\n",
       "        text-align: right;\n",
       "    }\n",
       "</style>\n",
       "<table border=\"1\" class=\"dataframe\">\n",
       "  <thead>\n",
       "    <tr style=\"text-align: right;\">\n",
       "      <th></th>\n",
       "      <th>University</th>\n",
       "      <th>Location</th>\n",
       "      <th>Overall Teaching Score</th>\n",
       "      <th>Research Score</th>\n",
       "      <th>Research Quality</th>\n",
       "      <th>Industry Income Score</th>\n",
       "      <th>International Outlook Score</th>\n",
       "      <th>Overall Score</th>\n",
       "      <th>Rank</th>\n",
       "    </tr>\n",
       "  </thead>\n",
       "  <tbody>\n",
       "    <tr>\n",
       "      <th>0</th>\n",
       "      <td>University of Oxford</td>\n",
       "      <td>United Kingdom</td>\n",
       "      <td>96.8</td>\n",
       "      <td>100.0</td>\n",
       "      <td>98.8</td>\n",
       "      <td>99.6</td>\n",
       "      <td>97.3</td>\n",
       "      <td>98.50</td>\n",
       "      <td>1</td>\n",
       "    </tr>\n",
       "    <tr>\n",
       "      <th>1</th>\n",
       "      <td>Massachusetts Institute of Technology</td>\n",
       "      <td>United States</td>\n",
       "      <td>99.2</td>\n",
       "      <td>96.0</td>\n",
       "      <td>99.7</td>\n",
       "      <td>100.0</td>\n",
       "      <td>93.8</td>\n",
       "      <td>97.74</td>\n",
       "      <td>2</td>\n",
       "    </tr>\n",
       "    <tr>\n",
       "      <th>2</th>\n",
       "      <td>California Institute of Technology</td>\n",
       "      <td>United States</td>\n",
       "      <td>95.2</td>\n",
       "      <td>97.5</td>\n",
       "      <td>97.3</td>\n",
       "      <td>100.0</td>\n",
       "      <td>89.7</td>\n",
       "      <td>95.94</td>\n",
       "      <td>3</td>\n",
       "    </tr>\n",
       "    <tr>\n",
       "      <th>3</th>\n",
       "      <td>Stanford University</td>\n",
       "      <td>United States</td>\n",
       "      <td>97.5</td>\n",
       "      <td>97.3</td>\n",
       "      <td>99.6</td>\n",
       "      <td>100.0</td>\n",
       "      <td>85.1</td>\n",
       "      <td>95.90</td>\n",
       "      <td>4</td>\n",
       "    </tr>\n",
       "    <tr>\n",
       "      <th>4</th>\n",
       "      <td>Princeton University</td>\n",
       "      <td>United States</td>\n",
       "      <td>98.3</td>\n",
       "      <td>98.0</td>\n",
       "      <td>98.9</td>\n",
       "      <td>96.9</td>\n",
       "      <td>87.4</td>\n",
       "      <td>95.90</td>\n",
       "      <td>5</td>\n",
       "    </tr>\n",
       "  </tbody>\n",
       "</table>\n",
       "</div>"
      ],
      "text/plain": [
       "                              University        Location  \\\n",
       "0                   University of Oxford  United Kingdom   \n",
       "1  Massachusetts Institute of Technology   United States   \n",
       "2     California Institute of Technology   United States   \n",
       "3                    Stanford University   United States   \n",
       "4                   Princeton University   United States   \n",
       "\n",
       "   Overall Teaching Score  Research Score  Research Quality  \\\n",
       "0                    96.8           100.0              98.8   \n",
       "1                    99.2            96.0              99.7   \n",
       "2                    95.2            97.5              97.3   \n",
       "3                    97.5            97.3              99.6   \n",
       "4                    98.3            98.0              98.9   \n",
       "\n",
       "   Industry Income Score  International Outlook Score  Overall Score  Rank  \n",
       "0                   99.6                         97.3          98.50     1  \n",
       "1                  100.0                         93.8          97.74     2  \n",
       "2                  100.0                         89.7          95.94     3  \n",
       "3                  100.0                         85.1          95.90     4  \n",
       "4                   96.9                         87.4          95.90     5  "
      ]
     },
     "execution_count": 3,
     "metadata": {},
     "output_type": "execute_result"
    }
   ],
   "source": [
    "df = pd.read_csv('CleanData_universityRanking.csv')\n",
    "df.head()"
   ]
  },
  {
   "cell_type": "code",
   "execution_count": 4,
   "id": "a4558609",
   "metadata": {},
   "outputs": [
    {
     "data": {
      "text/html": [
       "<div>\n",
       "<style scoped>\n",
       "    .dataframe tbody tr th:only-of-type {\n",
       "        vertical-align: middle;\n",
       "    }\n",
       "\n",
       "    .dataframe tbody tr th {\n",
       "        vertical-align: top;\n",
       "    }\n",
       "\n",
       "    .dataframe thead th {\n",
       "        text-align: right;\n",
       "    }\n",
       "</style>\n",
       "<table border=\"1\" class=\"dataframe\">\n",
       "  <thead>\n",
       "    <tr style=\"text-align: right;\">\n",
       "      <th></th>\n",
       "      <th>University</th>\n",
       "      <th>Location</th>\n",
       "      <th>Overall Teaching Score</th>\n",
       "      <th>Research Score</th>\n",
       "      <th>Research Quality</th>\n",
       "      <th>Industry Income Score</th>\n",
       "      <th>International Outlook Score</th>\n",
       "      <th>Overall Score</th>\n",
       "      <th>Rank</th>\n",
       "    </tr>\n",
       "  </thead>\n",
       "  <tbody>\n",
       "    <tr>\n",
       "      <th>1470</th>\n",
       "      <td>University of Cuenca</td>\n",
       "      <td>Ecuador</td>\n",
       "      <td>11.5</td>\n",
       "      <td>14.0</td>\n",
       "      <td>17.4</td>\n",
       "      <td>48.7</td>\n",
       "      <td>47.9</td>\n",
       "      <td>27.90</td>\n",
       "      <td>1471</td>\n",
       "    </tr>\n",
       "    <tr>\n",
       "      <th>830</th>\n",
       "      <td>Czech Technical University in Prague</td>\n",
       "      <td>Czechia</td>\n",
       "      <td>30.8</td>\n",
       "      <td>18.9</td>\n",
       "      <td>31.3</td>\n",
       "      <td>58.7</td>\n",
       "      <td>60.5</td>\n",
       "      <td>40.04</td>\n",
       "      <td>831</td>\n",
       "    </tr>\n",
       "    <tr>\n",
       "      <th>1318</th>\n",
       "      <td>Yaşar University</td>\n",
       "      <td>Turkey</td>\n",
       "      <td>21.6</td>\n",
       "      <td>12.0</td>\n",
       "      <td>57.4</td>\n",
       "      <td>18.9</td>\n",
       "      <td>43.0</td>\n",
       "      <td>30.58</td>\n",
       "      <td>1319</td>\n",
       "    </tr>\n",
       "    <tr>\n",
       "      <th>1960</th>\n",
       "      <td>Mahasarakham University</td>\n",
       "      <td>Thailand</td>\n",
       "      <td>15.4</td>\n",
       "      <td>8.7</td>\n",
       "      <td>12.0</td>\n",
       "      <td>19.4</td>\n",
       "      <td>27.9</td>\n",
       "      <td>16.68</td>\n",
       "      <td>1961</td>\n",
       "    </tr>\n",
       "    <tr>\n",
       "      <th>249</th>\n",
       "      <td>University of Dundee</td>\n",
       "      <td>United Kingdom</td>\n",
       "      <td>26.2</td>\n",
       "      <td>32.2</td>\n",
       "      <td>84.6</td>\n",
       "      <td>79.9</td>\n",
       "      <td>92.2</td>\n",
       "      <td>63.02</td>\n",
       "      <td>250</td>\n",
       "    </tr>\n",
       "    <tr>\n",
       "      <th>1596</th>\n",
       "      <td>Acharya Nagarjuna University</td>\n",
       "      <td>India</td>\n",
       "      <td>44.7</td>\n",
       "      <td>9.7</td>\n",
       "      <td>17.9</td>\n",
       "      <td>26.4</td>\n",
       "      <td>28.6</td>\n",
       "      <td>25.46</td>\n",
       "      <td>1597</td>\n",
       "    </tr>\n",
       "    <tr>\n",
       "      <th>330</th>\n",
       "      <td>Brunel University of London</td>\n",
       "      <td>United Kingdom</td>\n",
       "      <td>24.7</td>\n",
       "      <td>27.9</td>\n",
       "      <td>80.6</td>\n",
       "      <td>60.7</td>\n",
       "      <td>98.3</td>\n",
       "      <td>58.44</td>\n",
       "      <td>331</td>\n",
       "    </tr>\n",
       "    <tr>\n",
       "      <th>1246</th>\n",
       "      <td>Hyogo Medical University</td>\n",
       "      <td>Japan</td>\n",
       "      <td>30.6</td>\n",
       "      <td>14.0</td>\n",
       "      <td>43.2</td>\n",
       "      <td>51.6</td>\n",
       "      <td>19.5</td>\n",
       "      <td>31.78</td>\n",
       "      <td>1247</td>\n",
       "    </tr>\n",
       "    <tr>\n",
       "      <th>949</th>\n",
       "      <td>University of Texas at El Paso</td>\n",
       "      <td>United States</td>\n",
       "      <td>26.6</td>\n",
       "      <td>30.4</td>\n",
       "      <td>44.0</td>\n",
       "      <td>39.8</td>\n",
       "      <td>45.6</td>\n",
       "      <td>37.28</td>\n",
       "      <td>950</td>\n",
       "    </tr>\n",
       "    <tr>\n",
       "      <th>1336</th>\n",
       "      <td>Mohammed V University of Rabat</td>\n",
       "      <td>Morocco</td>\n",
       "      <td>28.5</td>\n",
       "      <td>15.5</td>\n",
       "      <td>35.0</td>\n",
       "      <td>40.8</td>\n",
       "      <td>31.8</td>\n",
       "      <td>30.32</td>\n",
       "      <td>1337</td>\n",
       "    </tr>\n",
       "  </tbody>\n",
       "</table>\n",
       "</div>"
      ],
      "text/plain": [
       "                                University        Location  \\\n",
       "1470                  University of Cuenca         Ecuador   \n",
       "830   Czech Technical University in Prague         Czechia   \n",
       "1318                      Yaşar University          Turkey   \n",
       "1960               Mahasarakham University        Thailand   \n",
       "249                   University of Dundee  United Kingdom   \n",
       "1596          Acharya Nagarjuna University           India   \n",
       "330            Brunel University of London  United Kingdom   \n",
       "1246              Hyogo Medical University           Japan   \n",
       "949         University of Texas at El Paso   United States   \n",
       "1336        Mohammed V University of Rabat         Morocco   \n",
       "\n",
       "      Overall Teaching Score  Research Score  Research Quality  \\\n",
       "1470                    11.5            14.0              17.4   \n",
       "830                     30.8            18.9              31.3   \n",
       "1318                    21.6            12.0              57.4   \n",
       "1960                    15.4             8.7              12.0   \n",
       "249                     26.2            32.2              84.6   \n",
       "1596                    44.7             9.7              17.9   \n",
       "330                     24.7            27.9              80.6   \n",
       "1246                    30.6            14.0              43.2   \n",
       "949                     26.6            30.4              44.0   \n",
       "1336                    28.5            15.5              35.0   \n",
       "\n",
       "      Industry Income Score  International Outlook Score  Overall Score  Rank  \n",
       "1470                   48.7                         47.9          27.90  1471  \n",
       "830                    58.7                         60.5          40.04   831  \n",
       "1318                   18.9                         43.0          30.58  1319  \n",
       "1960                   19.4                         27.9          16.68  1961  \n",
       "249                    79.9                         92.2          63.02   250  \n",
       "1596                   26.4                         28.6          25.46  1597  \n",
       "330                    60.7                         98.3          58.44   331  \n",
       "1246                   51.6                         19.5          31.78  1247  \n",
       "949                    39.8                         45.6          37.28   950  \n",
       "1336                   40.8                         31.8          30.32  1337  "
      ]
     },
     "execution_count": 4,
     "metadata": {},
     "output_type": "execute_result"
    }
   ],
   "source": [
    "df.sample(10)"
   ]
  },
  {
   "cell_type": "code",
   "execution_count": 5,
   "id": "4552b270",
   "metadata": {},
   "outputs": [
    {
     "name": "stdout",
     "output_type": "stream",
     "text": [
      "<class 'pandas.core.frame.DataFrame'>\n",
      "RangeIndex: 1985 entries, 0 to 1984\n",
      "Data columns (total 9 columns):\n",
      " #   Column                       Non-Null Count  Dtype  \n",
      "---  ------                       --------------  -----  \n",
      " 0   University                   1985 non-null   object \n",
      " 1   Location                     1985 non-null   object \n",
      " 2   Overall Teaching Score       1985 non-null   float64\n",
      " 3   Research Score               1985 non-null   float64\n",
      " 4   Research Quality             1985 non-null   float64\n",
      " 5   Industry Income Score        1985 non-null   float64\n",
      " 6   International Outlook Score  1985 non-null   float64\n",
      " 7   Overall Score                1985 non-null   float64\n",
      " 8   Rank                         1985 non-null   int64  \n",
      "dtypes: float64(6), int64(1), object(2)\n",
      "memory usage: 139.7+ KB\n"
     ]
    }
   ],
   "source": [
    "df.info()"
   ]
  },
  {
   "cell_type": "code",
   "execution_count": 6,
   "id": "099b84fd",
   "metadata": {},
   "outputs": [
    {
     "data": {
      "text/plain": [
       "(1985, 9)"
      ]
     },
     "execution_count": 6,
     "metadata": {},
     "output_type": "execute_result"
    }
   ],
   "source": [
    "df.shape"
   ]
  },
  {
   "cell_type": "code",
   "execution_count": 7,
   "id": "af0b9b46",
   "metadata": {},
   "outputs": [
    {
     "data": {
      "text/html": [
       "<div>\n",
       "<style scoped>\n",
       "    .dataframe tbody tr th:only-of-type {\n",
       "        vertical-align: middle;\n",
       "    }\n",
       "\n",
       "    .dataframe tbody tr th {\n",
       "        vertical-align: top;\n",
       "    }\n",
       "\n",
       "    .dataframe thead th {\n",
       "        text-align: right;\n",
       "    }\n",
       "</style>\n",
       "<table border=\"1\" class=\"dataframe\">\n",
       "  <thead>\n",
       "    <tr style=\"text-align: right;\">\n",
       "      <th></th>\n",
       "      <th>count</th>\n",
       "      <th>mean</th>\n",
       "      <th>std</th>\n",
       "      <th>min</th>\n",
       "      <th>25%</th>\n",
       "      <th>50%</th>\n",
       "      <th>75%</th>\n",
       "      <th>max</th>\n",
       "    </tr>\n",
       "  </thead>\n",
       "  <tbody>\n",
       "    <tr>\n",
       "      <th>Overall Teaching Score</th>\n",
       "      <td>1985.0</td>\n",
       "      <td>28.533401</td>\n",
       "      <td>13.630902</td>\n",
       "      <td>9.00</td>\n",
       "      <td>19.10</td>\n",
       "      <td>25.60</td>\n",
       "      <td>34.20</td>\n",
       "      <td>99.2</td>\n",
       "    </tr>\n",
       "    <tr>\n",
       "      <th>Research Score</th>\n",
       "      <td>1985.0</td>\n",
       "      <td>23.048564</td>\n",
       "      <td>16.415394</td>\n",
       "      <td>2.80</td>\n",
       "      <td>11.70</td>\n",
       "      <td>17.20</td>\n",
       "      <td>28.80</td>\n",
       "      <td>100.0</td>\n",
       "    </tr>\n",
       "    <tr>\n",
       "      <th>Research Quality</th>\n",
       "      <td>1985.0</td>\n",
       "      <td>52.785693</td>\n",
       "      <td>24.206746</td>\n",
       "      <td>4.90</td>\n",
       "      <td>32.10</td>\n",
       "      <td>53.30</td>\n",
       "      <td>72.70</td>\n",
       "      <td>99.7</td>\n",
       "    </tr>\n",
       "    <tr>\n",
       "      <th>Industry Income Score</th>\n",
       "      <td>1985.0</td>\n",
       "      <td>47.770579</td>\n",
       "      <td>26.259459</td>\n",
       "      <td>15.70</td>\n",
       "      <td>23.10</td>\n",
       "      <td>41.80</td>\n",
       "      <td>68.50</td>\n",
       "      <td>100.0</td>\n",
       "    </tr>\n",
       "    <tr>\n",
       "      <th>International Outlook Score</th>\n",
       "      <td>1985.0</td>\n",
       "      <td>49.954307</td>\n",
       "      <td>21.713069</td>\n",
       "      <td>16.40</td>\n",
       "      <td>32.30</td>\n",
       "      <td>45.60</td>\n",
       "      <td>64.40</td>\n",
       "      <td>99.3</td>\n",
       "    </tr>\n",
       "    <tr>\n",
       "      <th>Overall Score</th>\n",
       "      <td>1985.0</td>\n",
       "      <td>40.418509</td>\n",
       "      <td>16.820860</td>\n",
       "      <td>13.14</td>\n",
       "      <td>27.58</td>\n",
       "      <td>36.06</td>\n",
       "      <td>51.14</td>\n",
       "      <td>98.5</td>\n",
       "    </tr>\n",
       "    <tr>\n",
       "      <th>Rank</th>\n",
       "      <td>1985.0</td>\n",
       "      <td>993.000000</td>\n",
       "      <td>573.164462</td>\n",
       "      <td>1.00</td>\n",
       "      <td>497.00</td>\n",
       "      <td>993.00</td>\n",
       "      <td>1489.00</td>\n",
       "      <td>1985.0</td>\n",
       "    </tr>\n",
       "  </tbody>\n",
       "</table>\n",
       "</div>"
      ],
      "text/plain": [
       "                              count        mean         std    min     25%  \\\n",
       "Overall Teaching Score       1985.0   28.533401   13.630902   9.00   19.10   \n",
       "Research Score               1985.0   23.048564   16.415394   2.80   11.70   \n",
       "Research Quality             1985.0   52.785693   24.206746   4.90   32.10   \n",
       "Industry Income Score        1985.0   47.770579   26.259459  15.70   23.10   \n",
       "International Outlook Score  1985.0   49.954307   21.713069  16.40   32.30   \n",
       "Overall Score                1985.0   40.418509   16.820860  13.14   27.58   \n",
       "Rank                         1985.0  993.000000  573.164462   1.00  497.00   \n",
       "\n",
       "                                50%      75%     max  \n",
       "Overall Teaching Score        25.60    34.20    99.2  \n",
       "Research Score                17.20    28.80   100.0  \n",
       "Research Quality              53.30    72.70    99.7  \n",
       "Industry Income Score         41.80    68.50   100.0  \n",
       "International Outlook Score   45.60    64.40    99.3  \n",
       "Overall Score                 36.06    51.14    98.5  \n",
       "Rank                         993.00  1489.00  1985.0  "
      ]
     },
     "execution_count": 7,
     "metadata": {},
     "output_type": "execute_result"
    }
   ],
   "source": [
    "df.describe().T"
   ]
  },
  {
   "cell_type": "code",
   "execution_count": 8,
   "id": "0b504b4a",
   "metadata": {},
   "outputs": [
    {
     "data": {
      "text/plain": [
       "University                     0\n",
       "Location                       0\n",
       "Overall Teaching Score         0\n",
       "Research Score                 0\n",
       "Research Quality               0\n",
       "Industry Income Score          0\n",
       "International Outlook Score    0\n",
       "Overall Score                  0\n",
       "Rank                           0\n",
       "dtype: int64"
      ]
     },
     "execution_count": 8,
     "metadata": {},
     "output_type": "execute_result"
    }
   ],
   "source": [
    "df.isnull().sum()"
   ]
  },
  {
   "cell_type": "code",
   "execution_count": 9,
   "id": "c7f63a60",
   "metadata": {},
   "outputs": [
    {
     "data": {
      "text/plain": [
       "np.int64(0)"
      ]
     },
     "execution_count": 9,
     "metadata": {},
     "output_type": "execute_result"
    }
   ],
   "source": [
    "df.duplicated().sum()"
   ]
  },
  {
   "cell_type": "code",
   "execution_count": 10,
   "id": "bced2e4d",
   "metadata": {},
   "outputs": [
    {
     "data": {
      "text/plain": [
       "Overall Teaching Score         0.791355\n",
       "Research Score                 0.905618\n",
       "Research Quality               0.833460\n",
       "Industry Income Score          0.848083\n",
       "International Outlook Score    0.737151\n",
       "Overall Score                  1.000000\n",
       "Rank                          -0.960610\n",
       "Name: Overall Score, dtype: float64"
      ]
     },
     "execution_count": 10,
     "metadata": {},
     "output_type": "execute_result"
    }
   ],
   "source": [
    "df.corr(numeric_only=True)['Overall Score']"
   ]
  },
  {
   "cell_type": "code",
   "execution_count": 11,
   "id": "8b4ac140",
   "metadata": {},
   "outputs": [
    {
     "data": {
      "text/plain": [
       "Index(['University', 'Location', 'Overall Teaching Score', 'Research Score',\n",
       "       'Research Quality', 'Industry Income Score',\n",
       "       'International Outlook Score', 'Overall Score', 'Rank'],\n",
       "      dtype='object')"
      ]
     },
     "execution_count": 11,
     "metadata": {},
     "output_type": "execute_result"
    }
   ],
   "source": [
    "df.columns"
   ]
  },
  {
   "cell_type": "code",
   "execution_count": 12,
   "id": "637b41fc",
   "metadata": {},
   "outputs": [
    {
     "data": {
      "text/html": [
       "<div>\n",
       "<style scoped>\n",
       "    .dataframe tbody tr th:only-of-type {\n",
       "        vertical-align: middle;\n",
       "    }\n",
       "\n",
       "    .dataframe tbody tr th {\n",
       "        vertical-align: top;\n",
       "    }\n",
       "\n",
       "    .dataframe thead th {\n",
       "        text-align: right;\n",
       "    }\n",
       "</style>\n",
       "<table border=\"1\" class=\"dataframe\">\n",
       "  <thead>\n",
       "    <tr style=\"text-align: right;\">\n",
       "      <th></th>\n",
       "      <th>University</th>\n",
       "      <th>Location</th>\n",
       "      <th>Overall Teaching Score</th>\n",
       "      <th>Research Score</th>\n",
       "      <th>Research Quality</th>\n",
       "      <th>Industry Income Score</th>\n",
       "      <th>International Outlook Score</th>\n",
       "      <th>Overall Score</th>\n",
       "      <th>Rank</th>\n",
       "    </tr>\n",
       "  </thead>\n",
       "  <tbody>\n",
       "    <tr>\n",
       "      <th>0</th>\n",
       "      <td>University of Oxford</td>\n",
       "      <td>United Kingdom</td>\n",
       "      <td>96.8</td>\n",
       "      <td>100.0</td>\n",
       "      <td>98.8</td>\n",
       "      <td>99.6</td>\n",
       "      <td>97.3</td>\n",
       "      <td>98.50</td>\n",
       "      <td>1</td>\n",
       "    </tr>\n",
       "    <tr>\n",
       "      <th>1</th>\n",
       "      <td>Massachusetts Institute of Technology</td>\n",
       "      <td>United States</td>\n",
       "      <td>99.2</td>\n",
       "      <td>96.0</td>\n",
       "      <td>99.7</td>\n",
       "      <td>100.0</td>\n",
       "      <td>93.8</td>\n",
       "      <td>97.74</td>\n",
       "      <td>2</td>\n",
       "    </tr>\n",
       "    <tr>\n",
       "      <th>2</th>\n",
       "      <td>California Institute of Technology</td>\n",
       "      <td>United States</td>\n",
       "      <td>95.2</td>\n",
       "      <td>97.5</td>\n",
       "      <td>97.3</td>\n",
       "      <td>100.0</td>\n",
       "      <td>89.7</td>\n",
       "      <td>95.94</td>\n",
       "      <td>3</td>\n",
       "    </tr>\n",
       "    <tr>\n",
       "      <th>3</th>\n",
       "      <td>Stanford University</td>\n",
       "      <td>United States</td>\n",
       "      <td>97.5</td>\n",
       "      <td>97.3</td>\n",
       "      <td>99.6</td>\n",
       "      <td>100.0</td>\n",
       "      <td>85.1</td>\n",
       "      <td>95.90</td>\n",
       "      <td>4</td>\n",
       "    </tr>\n",
       "    <tr>\n",
       "      <th>4</th>\n",
       "      <td>Princeton University</td>\n",
       "      <td>United States</td>\n",
       "      <td>98.3</td>\n",
       "      <td>98.0</td>\n",
       "      <td>98.9</td>\n",
       "      <td>96.9</td>\n",
       "      <td>87.4</td>\n",
       "      <td>95.90</td>\n",
       "      <td>5</td>\n",
       "    </tr>\n",
       "  </tbody>\n",
       "</table>\n",
       "</div>"
      ],
      "text/plain": [
       "                              University        Location  \\\n",
       "0                   University of Oxford  United Kingdom   \n",
       "1  Massachusetts Institute of Technology   United States   \n",
       "2     California Institute of Technology   United States   \n",
       "3                    Stanford University   United States   \n",
       "4                   Princeton University   United States   \n",
       "\n",
       "   Overall Teaching Score  Research Score  Research Quality  \\\n",
       "0                    96.8           100.0              98.8   \n",
       "1                    99.2            96.0              99.7   \n",
       "2                    95.2            97.5              97.3   \n",
       "3                    97.5            97.3              99.6   \n",
       "4                    98.3            98.0              98.9   \n",
       "\n",
       "   Industry Income Score  International Outlook Score  Overall Score  Rank  \n",
       "0                   99.6                         97.3          98.50     1  \n",
       "1                  100.0                         93.8          97.74     2  \n",
       "2                  100.0                         89.7          95.94     3  \n",
       "3                  100.0                         85.1          95.90     4  \n",
       "4                   96.9                         87.4          95.90     5  "
      ]
     },
     "execution_count": 12,
     "metadata": {},
     "output_type": "execute_result"
    }
   ],
   "source": [
    "df.head()"
   ]
  },
  {
   "cell_type": "code",
   "execution_count": 28,
   "id": "e25e19e9",
   "metadata": {},
   "outputs": [],
   "source": [
    "def plotHistogram(variable):\n",
    "    plt.figure()\n",
    "    plt.hist(df[variable], bins=35, color='purple')\n",
    "    plt.xlabel(variable)\n",
    "    plt.ylabel('Frequency')\n",
    "    plt.title('Data Frequency- {}'.format(variable))\n",
    "    plt.show()"
   ]
  },
  {
   "cell_type": "code",
   "execution_count": 29,
   "id": "19257f90",
   "metadata": {},
   "outputs": [
    {
     "data": {
      "image/png": "[encoded data removed]",
      "text/plain": [
       "<Figure size 640x480 with 1 Axes>"
      ]
     },
     "metadata": {},
     "output_type": "display_data"
    },
    {
     "data": {
      "image/png": "[encoded data removed]",
      "text/plain": [
       "<Figure size 640x480 with 1 Axes>"
      ]
     },
     "metadata": {},
     "output_type": "display_data"
    },
    {
     "data": {
      "image/png": "[encoded data removed]",
      "text/plain": [
       "<Figure size 640x480 with 1 Axes>"
      ]
     },
     "metadata": {},
     "output_type": "display_data"
    },
    {
     "data": {
      "image/png": "[encoded data removed]",
      "text/plain": [
       "<Figure size 640x480 with 1 Axes>"
      ]
     },
     "metadata": {},
     "output_type": "display_data"
    },
    {
     "data": {
      "image/png": "[encoded data removed]",
      "text/plain": [
       "<Figure size 640x480 with 1 Axes>"
      ]
     },
     "metadata": {},
     "output_type": "display_data"
    },
    {
     "data": {
      "image/png": "[encoded data removed]",
      "text/plain": [
       "<Figure size 640x480 with 1 Axes>"
      ]
     },
     "metadata": {},
     "output_type": "display_data"
    }
   ],
   "source": [
    "numeric_variable = ['Overall Teaching Score', 'Research Score','Research Quality', 'Industry Income Score','International Outlook Score', 'Overall Score']\n",
    "for i in numeric_variable:\n",
    "    plotHistogram(i)"
   ]
  },
  {
   "cell_type": "code",
   "execution_count": 38,
   "id": "75d35054",
   "metadata": {},
   "outputs": [
    {
     "data": {
      "text/plain": [
       "<Axes: ylabel='Rank'>"
      ]
     },
     "execution_count": 38,
     "metadata": {},
     "output_type": "execute_result"
    },
    {
     "data": {
      "image/png": "[encoded data removed]",
      "text/plain": [
       "<Figure size 640x480 with 1 Axes>"
      ]
     },
     "metadata": {},
     "output_type": "display_data"
    }
   ],
   "source": [
    "uni = df['University'].unique()\n",
    "sns.barplot(x=uni, y=df['Rank'])"
   ]
  },
  {
   "cell_type": "code",
   "execution_count": null,
   "id": "f4cc16e9",
   "metadata": {},
   "outputs": [],
   "source": []
  }
 ],
 "metadata": {
  "kernelspec": {
   "display_name": "myDataset",
   "language": "python",
   "name": "python3"
  },
  "language_info": {
   "codemirror_mode": {
    "name": "ipython",
    "version": 3
   },
   "file_extension": ".py",
   "mimetype": "text/x-python",
   "name": "python",
   "nbconvert_exporter": "python",
   "pygments_lexer": "ipython3",
   "version": "3.9.23"
  }
 },
 "nbformat": 4,
 "nbformat_minor": 5
}
